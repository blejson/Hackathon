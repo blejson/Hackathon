{
 "cells": [
  {
   "cell_type": "markdown",
   "metadata": {},
   "source": [
    "# Sprawdzanie dokładności modelu\n",
    "Plik test_data.csv jest dostępny tylko dla jury. Zawiera dane testowe - jednakowe dla wszystkich drużyn. Jest w takim samym formacie co zbiór, który otrzymaliście wraz z zadaniem, tylko już z czystymi danymi."
   ]
  },
  {
   "cell_type": "code",
   "execution_count": 1,
   "metadata": {},
   "outputs": [],
   "source": [
    "import pandas as pd\n",
    "import numpy as np"
   ]
  },
  {
   "cell_type": "code",
   "execution_count": 2,
   "metadata": {},
   "outputs": [],
   "source": [
    "test_data = pd.read_csv(\"final_train.csv\")"
   ]
  },
  {
   "cell_type": "markdown",
   "metadata": {},
   "source": [
    "### Miejsce na twój kod:"
   ]
  },
  {
   "cell_type": "code",
   "execution_count": 3,
   "metadata": {},
   "outputs": [
    {
     "name": "stdout",
     "output_type": "stream",
     "text": [
      "Prediction made in:  0.0800011157989502\n"
     ]
    }
   ],
   "source": [
    "from time import time \n",
    "import xgboost as xgb\n",
    "from sklearn.preprocessing import scale\n",
    "from sklearn.preprocessing import StandardScaler\n",
    "\n",
    "def prepare_data(raw_data):\n",
    "    del raw_data[\"Unnamed: 0\"]\n",
    "    X_values = raw_data[['fBodyAcc-meanFreq()-Z', 'fBodyAccJerk-energy()-Y', 'fBodyAccJerk-max()-Y', \n",
    "                            'fBodyAccMag-mad()', 'tGravityAcc-min()-X', 'fBodyAccJerk-std()-Y', \n",
    "                            'tBodyGyroJerk-mad()-X', 'fBodyGyro-bandsEnergy()-41,48', 'tBodyAcc-iqr()-X', \n",
    "                            'fBodyAccJerk-bandsEnergy()-33,40.2', 'tGravityAcc-mean()-X', 'fBodyAccMag-std()', \n",
    "                            'fBodyAccJerk-bandsEnergy()-1,24.2', 'fBodyAccJerk-mad()-Y', 'angle(X,gravityMean)', \n",
    "                            'tBodyAccJerk-std()-Y', 'angle(Y,gravityMean)', 'tBodyAcc-max()-X', \n",
    "                            'fBodyAccJerk-meanFreq()-Z', 'fBodyAcc-max()-X', 'fBodyAcc-maxInds-X', \n",
    "                            'tBodyAcc-std()-X', 'tGravityAcc-max()-Y', 'tBodyAccMag-mad()', \n",
    "                            'tGravityAcc-energy()-X', 'tBodyGyro-max()-X', 'tBodyAcc-mad()-X', \n",
    "                            'tBodyAcc-energy()-X', 'fBodyAcc-max()-Z', 'tBodyAcc-energy()-Y', \n",
    "                            'tBodyAccMag-max()', 'fBodyGyro-max()-Z', 'fBodyAccJerk-bandsEnergy()-17,32.2', \n",
    "                            'tGravityAcc-arCoeff()-X,2']]\n",
    "\n",
    "    sc = StandardScaler()\n",
    "    baked_data = sc.fit_transform(X_values)\n",
    "    return baked_data\n",
    "\n",
    "def predict(clf, features):\n",
    "    \n",
    "    # Starting the clock, making predictions, then stoping the clock\n",
    "    start = time()\n",
    "    y_pred = clf.predict(features)\n",
    "    end = time()\n",
    "    \n",
    "    # Printing results\n",
    "    print (\"Prediction made in: \",end - start)\n",
    "    \n",
    "    # Returning F1 score and accuracy\n",
    "    return y_pred\n",
    "\n",
    "# Preparing dataframe\n",
    "df = prepare_data(test_data)\n",
    "\n",
    "# Loading trained model\n",
    "clf = xgb.XGBClassifier()\n",
    "clf.load_model('XGB_with_tunning.model')\n",
    "\n",
    "predicted = predict(clf, df)"
   ]
  },
  {
   "cell_type": "markdown",
   "metadata": {},
   "source": [
    "### Sprawdzanie dokładności:\n",
    "Predicted - zmienna przechowująca przewidzianą aktywność. Poniższa linijka powinna zwrócić wartość 0-1."
   ]
  },
  {
   "cell_type": "code",
   "execution_count": 4,
   "metadata": {},
   "outputs": [
    {
     "data": {
      "text/plain": [
       "0.9956702146851886"
      ]
     },
     "execution_count": 4,
     "metadata": {},
     "output_type": "execute_result"
    }
   ],
   "source": [
    "np.mean(predicted == test_data.Activity)"
   ]
  },
  {
   "cell_type": "code",
   "execution_count": null,
   "metadata": {},
   "outputs": [],
   "source": []
  }
 ],
 "metadata": {
  "kernelspec": {
   "display_name": "Python 3",
   "language": "python",
   "name": "python3"
  },
  "language_info": {
   "codemirror_mode": {
    "name": "ipython",
    "version": 3
   },
   "file_extension": ".py",
   "mimetype": "text/x-python",
   "name": "python",
   "nbconvert_exporter": "python",
   "pygments_lexer": "ipython3",
   "version": "3.8.3"
  }
 },
 "nbformat": 4,
 "nbformat_minor": 4
}
