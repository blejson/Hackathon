{
 "cells": [
  {
   "cell_type": "markdown",
   "metadata": {},
   "source": [
    "# Sprawdzanie dokładności modelu\n",
    "Plik test_data.csv jest dostępny tylko dla jury. Zawiera dane testowe - jednakowe dla wszystkich drużyn. Jest w takim samym formacie co zbiór, który otrzymaliście wraz z zadaniem, tylko już z czystymi danymi."
   ]
  },
  {
   "cell_type": "code",
   "execution_count": 1,
   "metadata": {},
   "outputs": [],
   "source": [
    "import pandas as pd\n",
    "import numpy as np"
   ]
  },
  {
   "cell_type": "code",
   "execution_count": 2,
   "metadata": {},
   "outputs": [],
   "source": [
    "test_data = pd.read_csv(\"test_data.csv\")"
   ]
  },
  {
   "cell_type": "markdown",
   "metadata": {},
   "source": [
    "### Miejsce na twój kod:"
   ]
  },
  {
   "cell_type": "code",
   "execution_count": 3,
   "metadata": {},
   "outputs": [
    {
     "name": "stdout",
     "output_type": "stream",
     "text": [
      "Prediction made in:  0.09800124168395996\n"
     ]
    }
   ],
   "source": [
    "from time import time \n",
    "import xgboost as xgb\n",
    "from sklearn.preprocessing import scale\n",
    "from sklearn.preprocessing import StandardScaler\n",
    "\n",
    "def prepare_data(raw_data):\n",
    "    # Selecting specific columna form dataset\n",
    "    X_values = raw_data[['fBodyAccJerk-bandsEnergy()-57,64.1', 'fBodyAcc-meanFreq()-Z', 'angle(X,gravityMean)', \n",
    "                         'fBodyAcc-bandsEnergy()-1,16', 'fBodyGyro-min()-X', 'tBodyAccMag-arCoeff()1', \n",
    "                         'fBodyGyro-maxInds-X', 'fBodyAcc-maxInds-X', 'fBodyAcc-bandsEnergy()-17,24', \n",
    "                         'fBodyAccMag-maxInds', 'angle(Y,gravityMean)', 'fBodyAccJerk-meanFreq()-Z', \n",
    "                         'fBodyAcc-bandsEnergy()-9,16', 'tBodyGyroMag-entropy()', 'fBodyAcc-bandsEnergy()-1,16.2', \n",
    "                         'fBodyAcc-min()-Y', 'fBodyGyro-maxInds-Z', 'tBodyGyro-entropy()-X', \n",
    "                         'fBodyBodyGyroJerkMag-maxInds', 'tBodyAcc-correlation()-X,Y', 'tBodyGyro-correlation()-Y,Z', \n",
    "                         'fBodyAcc-maxInds-Z', 'fBodyAccJerk-min()-X', 'tGravityAcc-arCoeff()-X,1', \n",
    "                         'tGravityAcc-arCoeff()-Z,1', 'fBodyAcc-bandsEnergy()-1,16.1']]\n",
    "    \n",
    "    # Performing standardization\n",
    "    sc = StandardScaler()\n",
    "    baked_data = sc.fit_transform(X_values)\n",
    "    return baked_data\n",
    "\n",
    "def predict(clf, features):\n",
    "    \n",
    "    # Starting the clock, making predictions, then stoping the clock\n",
    "    start = time()\n",
    "    y_pred = clf.predict(features)\n",
    "    end = time()\n",
    "    \n",
    "    # Printing time results\n",
    "    print (\"Prediction made in: \",end - start)\n",
    "    \n",
    "    # Returning predicted labels\n",
    "    return y_pred\n",
    "\n",
    "# Preparing dataframe\n",
    "df = prepare_data(test_data)\n",
    "\n",
    "# Loading trained model\n",
    "clf = xgb.XGBClassifier()\n",
    "clf.load_model('XGB_classifier.model')\n",
    "\n",
    "# Making predictions\n",
    "predicted = predict(clf, df)"
   ]
  },
  {
   "cell_type": "markdown",
   "metadata": {},
   "source": [
    "### Sprawdzanie dokładności:\n",
    "Predicted - zmienna przechowująca przewidzianą aktywność. Poniższa linijka powinna zwrócić wartość 0-1."
   ]
  },
  {
   "cell_type": "code",
   "execution_count": 4,
   "metadata": {},
   "outputs": [
    {
     "data": {
      "text/plain": [
       "0.9953996031030128"
      ]
     },
     "execution_count": 4,
     "metadata": {},
     "output_type": "execute_result"
    }
   ],
   "source": [
    "np.mean(predicted == test_data.Activity)"
   ]
  }
 ],
 "metadata": {
  "kernelspec": {
   "display_name": "Python 3",
   "language": "python",
   "name": "python3"
  },
  "language_info": {
   "codemirror_mode": {
    "name": "ipython",
    "version": 3
   },
   "file_extension": ".py",
   "mimetype": "text/x-python",
   "name": "python",
   "nbconvert_exporter": "python",
   "pygments_lexer": "ipython3",
   "version": "3.8.3"
  }
 },
 "nbformat": 4,
 "nbformat_minor": 4
}
