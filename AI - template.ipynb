{
 "cells": [
  {
   "cell_type": "markdown",
   "metadata": {},
   "source": [
    "# Sprawdzanie dokładności modelu\n",
    "Plik test_data.csv jest dostępny tylko dla jury. Zawiera dane testowe - jednakowe dla wszystkich drużyn. Jest w takim samym formacie co zbiór, który otrzymaliście wraz z zadaniem, tylko już z czystymi danymi."
   ]
  },
  {
   "cell_type": "code",
   "execution_count": 1,
   "metadata": {},
   "outputs": [],
   "source": [
    "import pandas as pd\n",
    "import numpy as np\n"
   ]
  },
  {
   "cell_type": "code",
   "execution_count": 2,
   "metadata": {},
   "outputs": [],
   "source": [
    "test_data = pd.read_csv(\"final_train.csv\")"
   ]
  },
  {
   "cell_type": "markdown",
   "metadata": {},
   "source": [
    "### Miejsce na twój kod:"
   ]
  },
  {
   "cell_type": "code",
   "execution_count": 3,
   "metadata": {},
   "outputs": [
    {
     "name": "stdout",
     "output_type": "stream",
     "text": [
      "Training a XGBClassifier using a training set size of 8868. . .\n"
     ]
    },
    {
     "name": "stderr",
     "output_type": "stream",
     "text": [
      "C:\\ProgramData\\Anaconda3\\lib\\site-packages\\xgboost\\sklearn.py:888: UserWarning: The use of label encoder in XGBClassifier is deprecated and will be removed in a future release. To remove this warning, do the following: 1) Pass option use_label_encoder=False when constructing XGBClassifier object; and 2) Encode your labels (y) as integers starting with 0, i.e. 0, 1, 2, ..., [num_class - 1].\n",
      "  warnings.warn(label_encoder_deprecation_msg, UserWarning)\n"
     ]
    },
    {
     "name": "stdout",
     "output_type": "stream",
     "text": [
      "[03:11:01] WARNING: C:/Users/Administrator/workspace/xgboost-win64_release_1.3.0/src/learner.cc:1061: Starting in XGBoost 1.3.0, the default evaluation metric used with the objective 'multi:softprob' was changed from 'merror' to 'mlogloss'. Explicitly set eval_metric if you'd like to restore the old behavior.\n",
      "Model trained in:  27.490998029708862\n",
      "Prediction made in:  0.04799818992614746\n",
      "===========================================\n",
      "Indexes assesing methods for training set:\n",
      "F1 score [LAYING  SITTING  STANDING  WALKING  WALKING_DOWNSTAIRS  WALKING_UPSTAIRS]: [1. 1. 1. 1. 1. 1.]\n",
      "Accuracy: 1.0\n",
      "===========================================\n",
      "Prediction made in:  0.014999151229858398\n",
      "Indexes assesing methods for test set:\n",
      "F1 score [LAYING  SITTING  STANDING  WALKING  WALKING_DOWNSTAIRS  WALKING_UPSTAIRS]: [1.         0.98701299 0.9867374  0.99337748 0.98686679 0.99298738]\n",
      "Accuracy: 0.9914337240757439\n",
      "Prediction made in:  0.059999942779541016\n"
     ]
    }
   ],
   "source": [
    "from sklearn.preprocessing import scale\n",
    "from sklearn.preprocessing import StandardScaler\n",
    "from time import time \n",
    "from sklearn.metrics import f1_score\n",
    "import xgboost as xgb\n",
    "from sklearn.model_selection import GridSearchCV\n",
    "from sklearn.metrics import make_scorer\n",
    "import seaborn as sns\n",
    "\n",
    "# Correct the order of values and label\n",
    "del test_data[\"Unnamed: 0\"]\n",
    "\n",
    "# Calculate correlation matrix between columns\n",
    "cor_matrix = test_data.corr().abs()\n",
    "\n",
    "# Drop highest correlated columns\n",
    "upper_tri = cor_matrix.where(np.triu(np.ones(cor_matrix.shape),k=1).astype(np.bool))\n",
    "to_drop = [column for column in upper_tri.columns if any(upper_tri[column] > 0.8)]\n",
    "df_analysis = test_data.drop(test_data[to_drop], axis=1) \n",
    "\n",
    "# Divide dataframe into values and labels\n",
    "Y_labels = df_analysis['Activity']\n",
    "X_values = df_analysis.loc[:, df_analysis.columns != 'Activity']\n",
    "\n",
    "# Standardising the data\n",
    "# Center to the mean and component wise scale to unit variance\n",
    "# for col in [variables]:\n",
    "#     X_all[col] = scale(X_all[col])\n",
    "sc = StandardScaler()\n",
    "X_values = sc.fit_transform(X_values)\n",
    "\n",
    "# Dividing data into training and test set taking 80% of prior data as a training set,\n",
    "# so that our models are tested based on matches that took place after matches from our training set\n",
    "X_train, X_test= np.split(X_values, [int(.8 *len(X_values))])\n",
    "Y_train, Y_test= np.split(Y_labels, [int(.8 *len(Y_labels))])\n",
    "\n",
    "# Training the classifier and measuring its time\n",
    "def train(clf, X_train, Y_train):\n",
    "    \n",
    "    # Starting the clock, training the classifier, then stoping the clock\n",
    "    start = time()\n",
    "    clf.fit(X_train, Y_train)\n",
    "    end = time()\n",
    "    \n",
    "    # Printing the results\n",
    "    print (\"Model trained in: \",end - start)\n",
    "    \n",
    "# Making predictions \n",
    "def predict(clf, features, target):\n",
    "    \n",
    "    # Starting the clock, making predictions, then stoping the clock\n",
    "    start = time()\n",
    "    y_pred = clf.predict(features)\n",
    "    end = time()\n",
    "    \n",
    "    # Printing results\n",
    "    print (\"Prediction made in: \",end - start)\n",
    "    \n",
    "    # Returning F1 score and accuracy\n",
    "    return f1_score(target, y_pred, average=None), sum(target == y_pred) / float(len(y_pred)), y_pred\n",
    "\n",
    "# Evaluation of our model\n",
    "def fit(clf, X_train, y_train, X_test, y_test):\n",
    "    \n",
    "    # Indicating the model and the training set size\n",
    "    print (\"Training a {} using a training set size of {}. . .\".format(clf.__class__.__name__, len(X_train)))\n",
    "    \n",
    "    # Training model\n",
    "    train(clf, X_train, y_train)\n",
    "    \n",
    "    # Printing the results of prediction for both training and testing set\n",
    "    f1, acc, output = predict(clf, X_train, y_train)\n",
    "    print (\"===========================================\")\n",
    "    print (\"Indexes assesing methods for training set:\")\n",
    "    print (\"F1 score [LAYING  SITTING  STANDING  WALKING  WALKING_DOWNSTAIRS  WALKING_UPSTAIRS]:\", f1)\n",
    "    print (\"Accuracy:\", acc)\n",
    "    \n",
    "    print (\"===========================================\")\n",
    "    f1, acc, output = predict(clf, X_test, y_test)\n",
    "    print (\"Indexes assesing methods for test set:\")\n",
    "    print (\"F1 score [LAYING  SITTING  STANDING  WALKING  WALKING_DOWNSTAIRS  WALKING_UPSTAIRS]:\", f1)\n",
    "    print (\"Accuracy:\", acc)\n",
    "    \n",
    "# Creating our model and training it\n",
    "clf_XGB = xgb.XGBClassifier()\n",
    "\n",
    "fit(clf_XGB, X_train, Y_train, X_test, Y_test)\n",
    "\n",
    "f1f, accf, predicted = predict(clf_XGB, X_values, Y_labels)"
   ]
  },
  {
   "cell_type": "markdown",
   "metadata": {},
   "source": [
    "### Sprawdzanie dokładności:\n",
    "Predicted - zmienna przechowująca przewidzianą aktywność. Poniższa linijka powinna zwrócić wartość 0-1."
   ]
  },
  {
   "cell_type": "code",
   "execution_count": 4,
   "metadata": {},
   "outputs": [
    {
     "data": {
      "text/plain": [
       "0.9982861266462204"
      ]
     },
     "execution_count": 4,
     "metadata": {},
     "output_type": "execute_result"
    }
   ],
   "source": [
    "np.mean(predicted == test_data.Activity)"
   ]
  },
  {
   "cell_type": "code",
   "execution_count": null,
   "metadata": {},
   "outputs": [],
   "source": []
  }
 ],
 "metadata": {
  "kernelspec": {
   "display_name": "Python 3",
   "language": "python",
   "name": "python3"
  },
  "language_info": {
   "codemirror_mode": {
    "name": "ipython",
    "version": 3
   },
   "file_extension": ".py",
   "mimetype": "text/x-python",
   "name": "python",
   "nbconvert_exporter": "python",
   "pygments_lexer": "ipython3",
   "version": "3.8.3"
  }
 },
 "nbformat": 4,
 "nbformat_minor": 4
}
