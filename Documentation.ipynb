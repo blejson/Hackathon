{
 "cells": [
  {
   "cell_type": "code",
   "execution_count": null,
   "metadata": {},
   "outputs": [],
   "source": [
    "import pandas as pd\n",
    "import numpy as np\n",
    "from sklearn.preprocessing import scale\n",
    "from sklearn.preprocessing import StandardScaler\n",
    "from time import time \n",
    "from sklearn.metrics import f1_score\n",
    "import xgboost as xgb\n",
    "from sklearn.model_selection import GridSearchCV\n",
    "from sklearn.metrics import make_scorer\n",
    "import seaborn as sns\n",
    "%matplotlib inline"
   ]
  },
  {
   "cell_type": "markdown",
   "metadata": {},
   "source": []
  },
  {
   "cell_type": "code",
   "execution_count": null,
   "metadata": {},
   "outputs": [],
   "source": [
    "# Load training data as dataframe\n",
    "df = pd.read_csv('final_train.csv')\n",
    "\n",
    "display(df)"
   ]
  },
  {
   "cell_type": "code",
   "execution_count": null,
   "metadata": {},
   "outputs": [],
   "source": [
    "# Correct the order of values and label\n",
    "del df[\"Unnamed: 0\"]\n",
    "\n",
    "# Calculate correlation matrix between columns\n",
    "cor_matrix = df.corr().abs()\n",
    "\n",
    "# Drop highest correlated columns\n",
    "upper_tri = cor_matrix.where(np.triu(np.ones(cor_matrix.shape),k=1).astype(np.bool))\n",
    "to_drop = [column for column in upper_tri.columns if any(upper_tri[column] > 0.8)]\n",
    "df1 = df.drop(df[to_drop], axis=1)\n",
    "df_analysis = df1"
   ]
  },
  {
   "cell_type": "code",
   "execution_count": null,
   "metadata": {},
   "outputs": [],
   "source": [
    "display(df_analysis)"
   ]
  },
  {
   "cell_type": "code",
   "execution_count": null,
   "metadata": {},
   "outputs": [],
   "source": [
    "# Divide dataframe into values and labels sets\n",
    "Y_labels = df_analysis['Activity'] \n",
    "X_values = df_analysis[['fBodyAccJerk-bandsEnergy()-57,64.1', 'fBodyAcc-meanFreq()-Z', \n",
    "                        'angle(X,gravityMean)', 'fBodyAcc-bandsEnergy()-1,16', 'fBodyGyro-min()-X', \n",
    "                        'tBodyAccMag-arCoeff()1', 'fBodyGyro-maxInds-X', 'fBodyAcc-maxInds-X', \n",
    "                        'fBodyAcc-bandsEnergy()-17,24', 'fBodyAccMag-maxInds', 'angle(Y,gravityMean)', \n",
    "                        'fBodyAccJerk-meanFreq()-Z', 'fBodyAcc-bandsEnergy()-9,16', 'tBodyGyroMag-entropy()', \n",
    "                        'fBodyAcc-bandsEnergy()-1,16.2', 'fBodyAcc-min()-Y', 'fBodyGyro-maxInds-Z', \n",
    "                        'tBodyGyro-entropy()-X', 'fBodyBodyGyroJerkMag-maxInds', 'tBodyAcc-correlation()-X,Y', \n",
    "                        'tBodyGyro-correlation()-Y,Z', 'fBodyAcc-maxInds-Z', 'fBodyAccJerk-min()-X', \n",
    "                        'tGravityAcc-arCoeff()-X,1', 'tGravityAcc-arCoeff()-Z,1', 'fBodyAcc-bandsEnergy()-1,16.1']]\n",
    "\n",
    "display(X_values)"
   ]
  },
  {
   "cell_type": "code",
   "execution_count": null,
   "metadata": {},
   "outputs": [],
   "source": [
    "# Standardising the data\n",
    "# Center to the mean and component wise scale to unit variance\n",
    "sc = StandardScaler()\n",
    "X_values = sc.fit_transform(X_values)"
   ]
  },
  {
   "cell_type": "code",
   "execution_count": null,
   "metadata": {},
   "outputs": [],
   "source": [
    "# Dividing data into training and test set taking 80% of prior data as a training set,\n",
    "# so that our models are tested based on matches that took place after matches from our training set\n",
    "X_train, X_test= np.split(X_values, [int(.8 *len(X_values))])\n",
    "Y_train, Y_test= np.split(Y_labels, [int(.8 *len(Y_labels))])"
   ]
  },
  {
   "cell_type": "code",
   "execution_count": null,
   "metadata": {},
   "outputs": [],
   "source": [
    "# Printing shape of our data sets\n",
    "print('Training Features Shape:', X_train.shape)\n",
    "print('Training Labels Shape:', Y_train.shape)\n",
    "print('Testing Features Shape:', X_test.shape)\n",
    "print('Testing Labels Shape:', Y_test.shape)"
   ]
  },
  {
   "cell_type": "code",
   "execution_count": null,
   "metadata": {},
   "outputs": [],
   "source": [
    "# Function for training the classifier and measuring training time\n",
    "def train(clf, X_train, Y_train):\n",
    "    \n",
    "    # Starting the clock, training the classifier, then stoping the clock\n",
    "    start = time()\n",
    "    clf.fit(X_train, Y_train)\n",
    "    end = time()\n",
    "    \n",
    "    # Printing time results\n",
    "    print (\"Model trained in: \",end - start)"
   ]
  },
  {
   "cell_type": "code",
   "execution_count": null,
   "metadata": {},
   "outputs": [],
   "source": [
    "# Function for predictions from classifier\n",
    "def predict(clf, features, target):\n",
    "    \n",
    "    # Starting the clock, making predictions, then stoping the clock\n",
    "    start = time()\n",
    "    y_pred = clf.predict(features)\n",
    "    end = time()\n",
    "    \n",
    "    # Printing time results\n",
    "    print (\"Prediction made in: \",end - start)\n",
    "    \n",
    "    # Returning F1 score, accuracy and predicted labels\n",
    "    return f1_score(target, y_pred, average=None), sum(target == y_pred) / float(len(y_pred)), y_pred"
   ]
  },
  {
   "cell_type": "code",
   "execution_count": null,
   "metadata": {},
   "outputs": [],
   "source": [
    "# Function for evaluation of the classifier\n",
    "def fit(clf, X_train, y_train, X_test, y_test):\n",
    "    \n",
    "    # Indicating the model and the training set size\n",
    "    print (\"Training a {} using a training set size of {}. . .\".format(clf.__class__.__name__, len(X_train)))\n",
    "    \n",
    "    # Training the model\n",
    "    train(clf, X_train, y_train)\n",
    "    \n",
    "    # Printing the results of prediction for both train set and test set\n",
    "    f1, acc, predictions = predict(clf, X_train, y_train)\n",
    "    print (\"===========================================\")\n",
    "    print (\"Indexes assesing methods for training set:\")\n",
    "    print (\"F1 score [LAYING  SITTING  STANDING  WALKING  WALKING_DOWNSTAIRS  WALKING_UPSTAIRS]:\", f1)\n",
    "    print (\"Accuracy:\", acc)\n",
    "    \n",
    "    print (\"===========================================\")\n",
    "    f1, acc, predictions = predict(clf, X_test, y_test)\n",
    "    print (\"Indexes assesing methods for test set:\")\n",
    "    print (\"F1 score [LAYING  SITTING  STANDING  WALKING  WALKING_DOWNSTAIRS  WALKING_UPSTAIRS]:\", f1)\n",
    "    print (\"Accuracy:\", acc)"
   ]
  },
  {
   "cell_type": "code",
   "execution_count": null,
   "metadata": {},
   "outputs": [],
   "source": [
    "# Function for inference \n",
    "def inference(clf_XGB, inf):\n",
    "    start = time()\n",
    "    y_pred = clf_XGB.predict(inf)\n",
    "    end = time()\n",
    "\n",
    "    # Printing results\n",
    "    print (\"Inference made in: \",end - start)"
   ]
  },
  {
   "cell_type": "code",
   "execution_count": null,
   "metadata": {},
   "outputs": [],
   "source": [
    "# Creating our model and training it\n",
    "clf_XGB = xgb.XGBClassifier()\n",
    "\n",
    "fit(clf_XGB, X_train, Y_train, X_test, Y_test)\n",
    "print ('')"
   ]
  },
  {
   "cell_type": "code",
   "execution_count": null,
   "metadata": {},
   "outputs": [],
   "source": [
    "# Inference time\n",
    "pred_try = np.array([X_train[0]])\n",
    "inference(clf_XGB, pred_try)"
   ]
  },
  {
   "cell_type": "code",
   "execution_count": null,
   "metadata": {},
   "outputs": [],
   "source": [
    "# Saving trained model\n",
    "clf_XGB.save_model('XGB_classifier.model')"
   ]
  },
  {
   "cell_type": "code",
   "execution_count": null,
   "metadata": {},
   "outputs": [],
   "source": [
    "# Loading trained model\n",
    "clf2 = xgb.XGBClassifier()\n",
    "clf2.load_model('XGB_classifier.model')"
   ]
  },
  {
   "cell_type": "code",
   "execution_count": null,
   "metadata": {},
   "outputs": [],
   "source": [
    "# Printing accuracy of our classifier\n",
    "f1f, accf, predicted = predict(clf2, X_values, Y_labels)\n",
    "print(\"Accuracy after tuning: \", accf)"
   ]
  },
  {
   "cell_type": "code",
   "execution_count": null,
   "metadata": {},
   "outputs": [],
   "source": [
    "np.mean(predicted == df.Activity)"
   ]
  }
 ],
 "metadata": {
  "kernelspec": {
   "display_name": "Python 3",
   "language": "python",
   "name": "python3"
  },
  "language_info": {
   "codemirror_mode": {
    "name": "ipython",
    "version": 3
   },
   "file_extension": ".py",
   "mimetype": "text/x-python",
   "name": "python",
   "nbconvert_exporter": "python",
   "pygments_lexer": "ipython3",
   "version": "3.8.3"
  }
 },
 "nbformat": 4,
 "nbformat_minor": 4
}
